{
 "cells": [
  {
   "cell_type": "code",
   "execution_count": 4,
   "id": "0eebe9cf",
   "metadata": {},
   "outputs": [],
   "source": [
    "import pandas as pd\n"
   ]
  },
  {
   "cell_type": "code",
   "execution_count": 5,
   "id": "0bfc6024",
   "metadata": {},
   "outputs": [],
   "source": [
    "\n",
    "df = pd.read_csv('data/Taylor_Swift_Genius/data.csv')\n",
    "formatted_lyrics = []\n",
    "for index, row in df.iterrows():\n",
    "    title_entry = f\"{row['Song Name']} - {row['Album']}:\\n\"\n",
    "    lyrics_entry = f\"{row['Lyrics']}\\n\\n\"  # Add two newlines for spacing between songs\n",
    "    formatted_lyrics.append(title_entry + lyrics_entry)\n",
    "\n",
    "all_lyrics = ''.join(formatted_lyrics)\n",
    "with open('lyrics_w_album.txt', 'w', encoding='utf-8') as file:\n",
    "    file.write(all_lyrics)\n"
   ]
  },
  {
   "cell_type": "code",
   "execution_count": 7,
   "id": "b833c33c",
   "metadata": {},
   "outputs": [],
   "source": [
    "df = pd.read_csv('data/Taylor_Swift_Genius/data.csv')\n",
    "lyrics = df['Lyrics'].tolist()\n",
    "all_lyrics = '\\n\\n'.join(lyrics)\n",
    "with open('taylor_swift_lyrics.txt', 'w', encoding='utf-8') as file:\n",
    "    file.write(all_lyrics)\n"
   ]
  },
  {
   "cell_type": "code",
   "execution_count": 9,
   "id": "f36615de",
   "metadata": {},
   "outputs": [],
   "source": [
    "with open('data/taylor_swift_lyrics.txt', 'r', encoding='utf-8') as f:\n",
    "    text = f.read()"
   ]
  },
  {
   "cell_type": "code",
   "execution_count": 23,
   "id": "7fa07429",
   "metadata": {},
   "outputs": [
    {
     "name": "stdout",
     "output_type": "stream",
     "text": [
      "length of dataset in char  272451\n",
      "She said I was seven and you were nine I looked at you like the stars that shined In the sky, the pr\n"
     ]
    }
   ],
   "source": [
    "print('length of dataset in char ', len(text))\n",
    "print(text[:100])"
   ]
  },
  {
   "cell_type": "code",
   "execution_count": 41,
   "id": "b7309a65",
   "metadata": {},
   "outputs": [
    {
     "name": "stdout",
     "output_type": "stream",
     "text": [
      "\n",
      " !\"'(),-.0123456789:;?ABCDEFGHIJKLMNOPQRSTUVWXYabcdefghijklmnopqrstuvwxyzéíóе ​–—‘’“ \n"
     ]
    }
   ],
   "source": [
    "chars = sorted(list(set(text)))\n",
    "# vocab_size = len(chars)\n",
    "print(''.join(chars))\n",
    "# print(vocab_size)"
   ]
  },
  {
   "cell_type": "code",
   "execution_count": 43,
   "id": "f933ce79",
   "metadata": {},
   "outputs": [
    {
     "name": "stdout",
     "output_type": "stream",
     "text": [
      "[55, 56, 56, 1, 67, 55, 52, 65, 52]\n",
      "hii there\n"
     ]
    }
   ],
   "source": [
    "# Integer to String mapping\n",
    "itos = {i: ch for i, ch in enumerate(chars)}\n",
    "\n",
    "# String to Integer mapping, the reverse of itos\n",
    "stoi = {ch: i for i, ch in enumerate(chars)}\n",
    "\n",
    "# Encoder: Convert string to list of integers\n",
    "encode = lambda s: [stoi[c] for c in s]\n",
    "\n",
    "# Decoder: Convert list of integers back to string\n",
    "decode = lambda l: ''.join([itos[i] for i in l])\n",
    "\n",
    "# Testing the functions\n",
    "print(encode(\"hii there\"))\n",
    "print(decode(encode(\"hii there\")))"
   ]
  },
  {
   "cell_type": "code",
   "execution_count": 46,
   "id": "ce46d89d",
   "metadata": {},
   "outputs": [
    {
     "name": "stdout",
     "output_type": "stream",
     "text": [
      "torch.Size([272451]) torch.int64\n",
      "tensor([41, 55, 52,  1, 66, 48, 56, 51,  1, 31])\n"
     ]
    }
   ],
   "source": [
    "# let's now encode the entire text dataset and store it into a torch.Tensor\n",
    "import torch # we use PyTorch: https://pytorch.org\n",
    "data = torch.tensor(encode(text), dtype=torch.long)\n",
    "print(data.shape, data.dtype)\n",
    "print(data[:10]) # the 1000 characters we looked at earier will to the GPT look like this"
   ]
  },
  {
   "cell_type": "code",
   "execution_count": 47,
   "id": "e3bfe590",
   "metadata": {},
   "outputs": [],
   "source": [
    "n = int(0.9*len(data))\n",
    "train_data = data[:n]\n",
    "val_data = data[n:]"
   ]
  },
  {
   "cell_type": "code",
   "execution_count": 51,
   "id": "383bdbfa-f962-4eb3-8e61-483e40dced3b",
   "metadata": {},
   "outputs": [
    {
     "data": {
      "text/plain": [
       "tensor([41, 55, 52,  1, 66, 48, 56, 51,  1])"
      ]
     },
     "execution_count": 51,
     "metadata": {},
     "output_type": "execute_result"
    }
   ],
   "source": [
    "block_size = 8\n",
    "train_data[:block_size+1]"
   ]
  },
  {
   "cell_type": "code",
   "execution_count": 52,
   "id": "4f39c41c-c8fe-4328-a324-2396750f11ae",
   "metadata": {},
   "outputs": [
    {
     "name": "stdout",
     "output_type": "stream",
     "text": [
      "when input is tensor([41]) the target: 55\n",
      "when input is tensor([41, 55]) the target: 52\n",
      "when input is tensor([41, 55, 52]) the target: 1\n",
      "when input is tensor([41, 55, 52,  1]) the target: 66\n",
      "when input is tensor([41, 55, 52,  1, 66]) the target: 48\n",
      "when input is tensor([41, 55, 52,  1, 66, 48]) the target: 56\n",
      "when input is tensor([41, 55, 52,  1, 66, 48, 56]) the target: 51\n",
      "when input is tensor([41, 55, 52,  1, 66, 48, 56, 51]) the target: 1\n"
     ]
    }
   ],
   "source": [
    "x = train_data[:block_size]\n",
    "y = train_data[1:block_size+1]\n",
    "for t in range(block_size):\n",
    "    context = x[:t+1]\n",
    "    target = y[t]\n",
    "    print(f\"when input is {context} the target: {target}\")"
   ]
  },
  {
   "cell_type": "code",
   "execution_count": 59,
   "id": "5c93ec53-57c9-4b18-93bd-65a5b4579f90",
   "metadata": {},
   "outputs": [
    {
     "name": "stdout",
     "output_type": "stream",
     "text": [
      "inputs:\n",
      "torch.Size([4, 8])\n",
      "tensor([[52, 53, 67,  1, 25, 62, 65, 61],\n",
      "        [ 1, 56, 66,  1, 48, 54, 59, 62],\n",
      "        [69, 52,  1, 60, 52,  7,  1, 60],\n",
      "        [ 6,  1, 24, 48, 50, 58,  1, 48]])\n",
      "targets:\n",
      "torch.Size([4, 8])\n",
      "tensor([[53, 67,  1, 25, 62, 65, 61, 52],\n",
      "        [56, 66,  1, 48, 54, 59, 62, 70],\n",
      "        [52,  1, 60, 52,  7,  1, 60, 72],\n",
      "        [ 1, 24, 48, 50, 58,  1, 48, 61]])\n",
      "----\n",
      "when input is [52] the target: 53\n",
      "when input is [52, 53] the target: 67\n",
      "when input is [52, 53, 67] the target: 1\n",
      "when input is [52, 53, 67, 1] the target: 25\n",
      "when input is [52, 53, 67, 1, 25] the target: 62\n",
      "when input is [52, 53, 67, 1, 25, 62] the target: 65\n",
      "when input is [52, 53, 67, 1, 25, 62, 65] the target: 61\n",
      "when input is [52, 53, 67, 1, 25, 62, 65, 61] the target: 52\n",
      "when input is [1] the target: 56\n",
      "when input is [1, 56] the target: 66\n",
      "when input is [1, 56, 66] the target: 1\n",
      "when input is [1, 56, 66, 1] the target: 48\n",
      "when input is [1, 56, 66, 1, 48] the target: 54\n",
      "when input is [1, 56, 66, 1, 48, 54] the target: 59\n",
      "when input is [1, 56, 66, 1, 48, 54, 59] the target: 62\n",
      "when input is [1, 56, 66, 1, 48, 54, 59, 62] the target: 70\n",
      "when input is [69] the target: 52\n",
      "when input is [69, 52] the target: 1\n",
      "when input is [69, 52, 1] the target: 60\n",
      "when input is [69, 52, 1, 60] the target: 52\n",
      "when input is [69, 52, 1, 60, 52] the target: 7\n",
      "when input is [69, 52, 1, 60, 52, 7] the target: 1\n",
      "when input is [69, 52, 1, 60, 52, 7, 1] the target: 60\n",
      "when input is [69, 52, 1, 60, 52, 7, 1, 60] the target: 72\n",
      "when input is [6] the target: 1\n",
      "when input is [6, 1] the target: 24\n",
      "when input is [6, 1, 24] the target: 48\n",
      "when input is [6, 1, 24, 48] the target: 50\n",
      "when input is [6, 1, 24, 48, 50] the target: 58\n",
      "when input is [6, 1, 24, 48, 50, 58] the target: 1\n",
      "when input is [6, 1, 24, 48, 50, 58, 1] the target: 48\n",
      "when input is [6, 1, 24, 48, 50, 58, 1, 48] the target: 61\n"
     ]
    }
   ],
   "source": [
    "torch.manual_seed(1337)\n",
    "batch_size = 4 # how many independent sequences will we process in parallel?\n",
    "block_size = 8 # what is the maximum context length for predictions?\n",
    "\n",
    "def get_batch(split):\n",
    "    # generate a small batch of data of inputs x and targets y\n",
    "    data = train_data if split == 'train' else val_data\n",
    "    ix = torch.randint(len(data) - block_size, (batch_size,))\n",
    "    x = torch.stack([data[i:i+block_size] for i in ix])\n",
    "    y = torch.stack([data[i+1:i+block_size+1] for i in ix])\n",
    "    return x, y\n",
    "\n",
    "xb, yb = get_batch('train')\n",
    "print('inputs:')\n",
    "print(xb.shape)\n",
    "print(xb)\n",
    "print('targets:')\n",
    "print(yb.shape)\n",
    "print(yb)\n",
    "\n",
    "print('----')\n",
    "\n",
    "for b in range(batch_size): # batch dimension\n",
    "    for t in range(block_size): # time dimension\n",
    "        context = xb[b, :t+1]\n",
    "        target = yb[b,t]\n",
    "        print(f\"when input is {context.tolist()} the target: {target}\")"
   ]
  },
  {
   "cell_type": "code",
   "execution_count": 57,
   "id": "89859a31-9e51-4d6d-8ea5-601fbe5db146",
   "metadata": {},
   "outputs": [
    {
     "name": "stdout",
     "output_type": "stream",
     "text": [
      "tensor([[ 1, 67, 56, 60, 52,  1, 47, 52],\n",
      "        [52,  1, 42, 55, 56, 61, 58,  1],\n",
      "        [62, 51, 72,  1, 67, 52, 59, 59],\n",
      "        [50, 62, 68, 59, 51,  1, 53, 52]])\n"
     ]
    }
   ],
   "source": [
    "print(xb) # our input to the transformer"
   ]
  },
  {
   "cell_type": "code",
   "execution_count": 60,
   "id": "72bdd8cf-89a7-47e9-9e13-cb11a4ab9a1b",
   "metadata": {},
   "outputs": [
    {
     "name": "stdout",
     "output_type": "stream",
     "text": [
      "torch.Size([32, 86])\n",
      "tensor(5.0781, grad_fn=<NllLossBackward0>)\n",
      "\n",
      "ICA;26​YG17Ixqíse3U0DHb5lI0‘c(W‘eNp)du5lwz1HDékvlX\"'NmAl(w;0Dm​oKVKóW896’ 4m0H‘hsE?)h\"oéGvB2mDbPpC40\n"
     ]
    }
   ],
   "source": [
    "import torch\n",
    "import torch.nn as nn\n",
    "from torch.nn import functional as F\n",
    "torch.manual_seed(1337)\n",
    "\n",
    "class BigramLanguageModel(nn.Module):\n",
    "\n",
    "    def __init__(self, vocab_size):\n",
    "        super().__init__()\n",
    "        # each token directly reads off the logits for the next token from a lookup table\n",
    "        self.token_embedding_table = nn.Embedding(vocab_size, vocab_size)\n",
    "\n",
    "    def forward(self, idx, targets=None):\n",
    "\n",
    "        # idx and targets are both (B,T) tensor of integers\n",
    "        logits = self.token_embedding_table(idx) # (Batch,Time,Channel)\n",
    "\n",
    "        if targets is None:\n",
    "            loss = None\n",
    "        else:\n",
    "            B, T, C = logits.shape\n",
    "            logits = logits.view(B*T, C)\n",
    "            targets = targets.view(B*T)\n",
    "            loss = F.cross_entropy(logits, targets)\n",
    "\n",
    "        return logits, loss\n",
    "\n",
    "    def generate(self, idx, max_new_tokens):\n",
    "        # idx is (B, T) array of indices in the current context\n",
    "        for _ in range(max_new_tokens):\n",
    "            # get the predictions\n",
    "            logits, loss = self(idx)\n",
    "            # focus only on the last time step\n",
    "            logits = logits[:, -1, :] # becomes (B, C)\n",
    "            # apply softmax to get probabilities\n",
    "            probs = F.softmax(logits, dim=-1) # (B, C)\n",
    "            # sample from the distribution\n",
    "            idx_next = torch.multinomial(probs, num_samples=1) # (B, 1)\n",
    "            # append sampled index to the running sequence\n",
    "            idx = torch.cat((idx, idx_next), dim=1) # (B, T+1)\n",
    "        return idx\n",
    "\n",
    "m = BigramLanguageModel(vocab_size)\n",
    "logits, loss = m(xb, yb)\n",
    "print(logits.shape)\n",
    "print(loss)\n",
    "\n",
    "print(decode(m.generate(idx = torch.zeros((1, 1), dtype=torch.long), max_new_tokens=100)[0].tolist()))\n"
   ]
  },
  {
   "cell_type": "code",
   "execution_count": 61,
   "id": "b5a62297-fc1c-45b4-ad5e-0496e64428cc",
   "metadata": {},
   "outputs": [],
   "source": [
    "# create a PyTorch optimizer\n",
    "optimizer = torch.optim.AdamW(m.parameters(), lr=1e-3)"
   ]
  },
  {
   "cell_type": "code",
   "execution_count": 107,
   "id": "8029b1ec-6833-42dc-b260-94c3ac7d3e01",
   "metadata": {},
   "outputs": [
    {
     "name": "stdout",
     "output_type": "stream",
     "text": [
      "2.33646559715271\n"
     ]
    }
   ],
   "source": [
    "batch_size = 32\n",
    "for steps in range(1000): # increase number of steps for good results...\n",
    "\n",
    "    # sample a batch of data\n",
    "    xb, yb = get_batch('train')\n",
    "\n",
    "    # evaluate the loss\n",
    "    logits, loss = m(xb, yb)\n",
    "    optimizer.zero_grad(set_to_none=True)\n",
    "    loss.backward()\n",
    "    optimizer.step()\n",
    "\n",
    "print(loss.item())"
   ]
  },
  {
   "cell_type": "code",
   "execution_count": 113,
   "id": "b37cbe30-11ca-4360-b1af-a97807d67952",
   "metadata": {},
   "outputs": [
    {
     "name": "stdout",
     "output_type": "stream",
     "text": [
      "\n",
      "\n",
      "\n",
      "Fo Caith-at't pemyoowak tous I w, we Vr' benefofofigon Thiknau ou therou, teelldof g, gou's w y athohe tha wis be ca t me Sous t Itth) smm Ithere'sligha-owar or hacer thinoge f is Anllemanousthow  Dounonomitou Oheandyopp ave d teaul Wemsancoo rsharet foug ce o tokede we ownntivere I y my yoyo We othans w k yo a Yoourst s t Acaveshowannd kngotould lkne stethat d theve Ald wnd f But't I mayo y, mave de t thawsous f e artst tandoulis Ith, unt at w y who I ikyof st ht Cassais st mayomitrianea wike\n"
     ]
    }
   ],
   "source": [
    "print(decode(m.generate(idx = torch.zeros((1, 1), dtype=torch.long), max_new_tokens=500)[0].tolist()))"
   ]
  },
  {
   "cell_type": "code",
   "execution_count": null,
   "id": "fec0c12d-332b-470e-9789-0572eaf86aaa",
   "metadata": {},
   "outputs": [],
   "source": []
  },
  {
   "cell_type": "code",
   "execution_count": null,
   "id": "c8945197-706e-41b8-a717-1f43cdbaded2",
   "metadata": {},
   "outputs": [],
   "source": []
  },
  {
   "cell_type": "code",
   "execution_count": null,
   "id": "3c6d32f3-a2d6-4921-baf0-948578aabc76",
   "metadata": {},
   "outputs": [],
   "source": []
  },
  {
   "cell_type": "code",
   "execution_count": null,
   "id": "b764f0fa-9bba-4649-85d6-f2bbab960cf5",
   "metadata": {},
   "outputs": [],
   "source": []
  },
  {
   "cell_type": "code",
   "execution_count": null,
   "id": "66e66e2d-976e-466e-9b01-bd111ffefaea",
   "metadata": {},
   "outputs": [],
   "source": []
  },
  {
   "cell_type": "code",
   "execution_count": null,
   "id": "286f3702-baf4-4018-9d6d-31639a26f905",
   "metadata": {},
   "outputs": [],
   "source": []
  }
 ],
 "metadata": {
  "kernelspec": {
   "display_name": "Python 3 (ipykernel)",
   "language": "python",
   "name": "python3"
  },
  "language_info": {
   "codemirror_mode": {
    "name": "ipython",
    "version": 3
   },
   "file_extension": ".py",
   "mimetype": "text/x-python",
   "name": "python",
   "nbconvert_exporter": "python",
   "pygments_lexer": "ipython3",
   "version": "3.10.6"
  },
  "toc": {
   "base_numbering": 1,
   "nav_menu": {},
   "number_sections": true,
   "sideBar": true,
   "skip_h1_title": false,
   "title_cell": "Table of Contents",
   "title_sidebar": "Contents",
   "toc_cell": false,
   "toc_position": {},
   "toc_section_display": true,
   "toc_window_display": false
  }
 },
 "nbformat": 4,
 "nbformat_minor": 5
}
